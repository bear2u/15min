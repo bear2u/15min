{
  "nbformat": 4,
  "nbformat_minor": 0,
  "metadata": {
    "colab": {
      "name": "ch2.ipynb",
      "version": "0.3.2",
      "provenance": [],
      "collapsed_sections": [],
      "include_colab_link": true
    },
    "kernelspec": {
      "name": "python3",
      "display_name": "Python 3"
    }
  },
  "cells": [
    {
      "cell_type": "markdown",
      "metadata": {
        "id": "view-in-github",
        "colab_type": "text"
      },
      "source": [
        "<a href=\"https://colab.research.google.com/github/bear2u/15min/blob/master/ch2.ipynb\" target=\"_parent\"><img src=\"https://colab.research.google.com/assets/colab-badge.svg\" alt=\"Open In Colab\"/></a>"
      ]
    },
    {
      "metadata": {
        "id": "4tiF7ra-jo1F",
        "colab_type": "code",
        "outputId": "8867536a-6e58-497c-be2b-92e122b4f78b",
        "colab": {
          "base_uri": "https://localhost:8080/",
          "height": 53
        }
      },
      "cell_type": "code",
      "source": [
        "#2 - 1 / and.py\n",
        "\n",
        "# 라이브러리 읽어 들이기 --- (*1)\n",
        "from sklearn.svm import LinearSVC\n",
        "from sklearn.metrics import accuracy_score\n",
        "\n",
        "# 학습 전용 데이터와 결과 준비하기 --- (*2)\n",
        "# X , Y\n",
        "learn_data = [[0,0], [1,0], [0,1], [1,1]]\n",
        "# X and Y\n",
        "learn_label = [0, 0, 0, 1]\n",
        "\n",
        "# 알고리즘 지정하기(LinierSVC) --- (*3)\n",
        "clf = LinearSVC()\n",
        "\n",
        "# 학습전용데이터와결과학습하기  --- (*4)\n",
        "clf.fit(learn_data, learn_label)\n",
        "\n",
        "# 테스트 데이터로 예측하기 --- (*5)\n",
        "test_data = [[0,0], [1,0], [0,1], [1,1]]\n",
        "test_label = clf.predict(test_data)\n",
        "\n",
        "# 예측 결과 평가하기 --- (*6)\n",
        "print(test_data , \"의 예측 결과: \" ,  test_label)\n",
        "print(\"정답률 = \" , accuracy_score([0, 0, 0, 1], test_label))"
      ],
      "execution_count": 2,
      "outputs": [
        {
          "output_type": "stream",
          "text": [
            "[[0, 0], [1, 0], [0, 1], [1, 1]] 의 예측 결과:  [0 0 0 1]\n",
            "정답률 =  1.0\n"
          ],
          "name": "stdout"
        }
      ]
    },
    {
      "metadata": {
        "id": "5R_tfzmw-VM8",
        "colab_type": "code",
        "colab": {
          "base_uri": "https://localhost:8080/",
          "height": 53
        },
        "outputId": "30b8f4b3-2e7e-47fc-c911-0f09e524fdef"
      },
      "cell_type": "code",
      "source": [
        "#2 - 2 / xor. py\n",
        "# 라이브러리 읽어 들이기\n",
        "from sklearn.svm import LinearSVC\n",
        "from sklearn.metrics import accuracy_score\n",
        "\n",
        "# 학습 전용 데이터와 결과 준비하기\n",
        "# X , Y\n",
        "learn_data = [[0,0], [1,0], [0,1], [1,1]]\n",
        "# X xor Y\n",
        "learn_label = [0, 1, 1, 0]  #(*) xor 전용 레이블로 변경\n",
        "\n",
        "# 알고리즘 지정하기(LinierSVC)\n",
        "clf = LinearSVC()\n",
        "\n",
        "# 학습전용데이터와결과학습하기 \n",
        "clf.fit(learn_data, learn_label)\n",
        "\n",
        "# 테스트 데이터로 예측하기\n",
        "test_data = [[0,0], [1,0], [0,1], [1,1]]\n",
        "test_label = clf.predict(test_data)\n",
        "\n",
        "# 테스트 결과 평가하기\n",
        "print(test_data , \"의 예측 결과: \" ,  test_label)\n",
        "print(\"정답률 = \" , accuracy_score([0, 1, 1, 0], test_label))  #(*) xor 전용 레이블로 변경"
      ],
      "execution_count": 5,
      "outputs": [
        {
          "output_type": "stream",
          "text": [
            "[[0, 0], [1, 0], [0, 1], [1, 1]] 의 예측 결과:  [0 0 0 0]\n",
            "정답률 =  0.5\n"
          ],
          "name": "stdout"
        }
      ]
    },
    {
      "metadata": {
        "id": "mLBh5HA7AHGp",
        "colab_type": "code",
        "colab": {
          "base_uri": "https://localhost:8080/",
          "height": 53
        },
        "outputId": "c697ffa7-f0cd-4713-9b42-d629bbd4fd0c"
      },
      "cell_type": "code",
      "source": [
        "#2 - 3 /xor2\n",
        "# 라이브러리 읽어 들이기 --- (*1)\n",
        "from sklearn.neighbors import KNeighborsClassifier\n",
        "from sklearn.metrics import accuracy_score\n",
        "\n",
        "# 학습 전용 데이터와 결과 준비하기\n",
        "# X , Y\n",
        "learn_data = [[0,0], [1,0], [0,1], [1,1]]\n",
        "# X xor Y\n",
        "learn_label = [0, 1, 1, 0]  #(*) xor 전용 레이블로 변경\n",
        "\n",
        "# 알고리즘 지정하기(KNeighborsClassifier) --- (*2)\n",
        "clf = KNeighborsClassifier(n_neighbors = 1)\n",
        "\n",
        "# 학습전용데이터와결과학습하기 \n",
        "clf.fit(learn_data, learn_label)\n",
        "\n",
        "# 테스트 데이터로 예측하기\n",
        "test_data = [[0,0], [1,0], [0,1], [1,1]]\n",
        "test_label = clf.predict(test_data)\n",
        "\n",
        "# 테스트 결과 평가하기\n",
        "print(test_data , \"의 예측 결과: \" ,  test_label)\n",
        "print(\"정답률 = \" , accuracy_score([0, 1, 1, 0], test_label))  #(*) xor 전용 레이블로 변경"
      ],
      "execution_count": 7,
      "outputs": [
        {
          "output_type": "stream",
          "text": [
            "[[0, 0], [1, 0], [0, 1], [1, 1]] 의 예측 결과:  [0 1 1 0]\n",
            "정답률 =  1.0\n"
          ],
          "name": "stdout"
        }
      ]
    },
    {
      "metadata": {
        "id": "0U7wiHEECWLz",
        "colab_type": "code",
        "colab": {
          "base_uri": "https://localhost:8080/",
          "height": 91
        },
        "outputId": "bd73a6b2-72f7-414f-93af-0ad517928603"
      },
      "cell_type": "code",
      "source": [
        "# 붓꽃\n",
        "\n",
        "import pandas as pd\n",
        "from sklearn.model_selection import train_test_split\n",
        "from sklearn.svm import SVC\n",
        "from sklearn.metrics import accuracy_score\n",
        "\n",
        "# 붓꽃 데이터 읽어 들이기 --- (*1)\n",
        "iris_data = pd.read_csv(\"https://raw.githubusercontent.com/wikibook/python-ml-app-dev/master/ch2/iris/iris.csv\", encoding=\"utf-8\")\n",
        "\n",
        "# 붓꽃 데이터를 레이블과 입력 데이터로 분리하기 --- (*2)\n",
        "y = iris_data.loc[:,\"Name\"]\n",
        "x = iris_data.loc[:,[\"SepalLength\",\"SepalWidth\",\"PetalLength\",\"PetalWidth\"]]\n",
        "\n",
        "# 학습 전용과 테스트 전용 분리하기 --- (*3)\n",
        "x_train, x_test, y_train, y_test = train_test_split(x, y, test_size = 0.2, train_size = 0.8, shuffle = True)\n",
        "\n",
        "# 학습하기 --- (*4)\n",
        "clf = SVC()\n",
        "clf.fit(x_train, y_train)\n",
        "\n",
        "# 평가하기 --- (*5)\n",
        "y_pred = clf.predict(x_test)\n",
        "print(\"정답률 = \" , accuracy_score(y_test, y_pred))"
      ],
      "execution_count": 9,
      "outputs": [
        {
          "output_type": "stream",
          "text": [
            "정답률 =  0.9666666666666667\n"
          ],
          "name": "stdout"
        },
        {
          "output_type": "stream",
          "text": [
            "/usr/local/lib/python3.6/dist-packages/sklearn/svm/base.py:196: FutureWarning: The default value of gamma will change from 'auto' to 'scale' in version 0.22 to account better for unscaled features. Set gamma explicitly to 'auto' or 'scale' to avoid this warning.\n",
            "  \"avoid this warning.\", FutureWarning)\n"
          ],
          "name": "stderr"
        }
      ]
    },
    {
      "metadata": {
        "id": "P4Wng-k_G-KS",
        "colab_type": "code",
        "colab": {
          "base_uri": "https://localhost:8080/",
          "height": 1133
        },
        "outputId": "65728876-4fe5-4772-c61c-83cca68c4d0e"
      },
      "cell_type": "code",
      "source": [
        "import pandas as pd\n",
        "from sklearn.model_selection import train_test_split\n",
        "from sklearn.ensemble import RandomForestClassifier \n",
        "from sklearn.metrics import accuracy_score\n",
        "from sklearn.metrics import classification_report\n",
        "\n",
        "# 데이터 읽어 들이기\n",
        "wine = pd.read_csv(\"https://raw.githubusercontent.com/wikibook/python-ml-app-dev/master/ch2/wine/winequality-white.csv\", sep=\";\", encoding=\"utf-8\")\n",
        "\n",
        "# 데이터를 레이블과 데이터로 분리하기 ---(*1)\n",
        "y = wine[\"quality\"]\n",
        "x = wine.drop(\"quality\", axis=1)\n",
        "\n",
        "# 학습 전용과 테스트 전용으로 분리하기 ---(*2)\n",
        "x_train, x_test, y_train, y_test = train_test_split(\n",
        "  x, y, test_size=0.2)\n",
        "\n",
        "# 학습하기 ---(*3)\n",
        "model = RandomForestClassifier()\n",
        "model.fit(x_train, y_train)\n",
        "\n",
        "# 평가하기 ---(*4)\n",
        "y_pred = model.predict(x_test)\n",
        "print(classification_report(y_test, y_pred))\n",
        "print(\"정답률=\", accuracy_score(y_test, y_pred))"
      ],
      "execution_count": 11,
      "outputs": [
        {
          "output_type": "execute_result",
          "data": {
            "text/plain": [
              "0       6\n",
              "1       6\n",
              "2       6\n",
              "3       6\n",
              "4       6\n",
              "5       6\n",
              "6       6\n",
              "7       6\n",
              "8       6\n",
              "9       6\n",
              "10      5\n",
              "11      5\n",
              "12      5\n",
              "13      7\n",
              "14      5\n",
              "15      7\n",
              "16      6\n",
              "17      8\n",
              "18      6\n",
              "19      5\n",
              "20      8\n",
              "21      7\n",
              "22      8\n",
              "23      5\n",
              "24      6\n",
              "25      6\n",
              "26      6\n",
              "27      6\n",
              "28      6\n",
              "29      7\n",
              "       ..\n",
              "4868    6\n",
              "4869    6\n",
              "4870    7\n",
              "4871    6\n",
              "4872    5\n",
              "4873    6\n",
              "4874    6\n",
              "4875    6\n",
              "4876    7\n",
              "4877    5\n",
              "4878    4\n",
              "4879    6\n",
              "4880    6\n",
              "4881    6\n",
              "4882    5\n",
              "4883    6\n",
              "4884    5\n",
              "4885    6\n",
              "4886    7\n",
              "4887    7\n",
              "4888    5\n",
              "4889    6\n",
              "4890    6\n",
              "4891    6\n",
              "4892    5\n",
              "4893    6\n",
              "4894    5\n",
              "4895    6\n",
              "4896    7\n",
              "4897    6\n",
              "Name: quality, Length: 4898, dtype: int64"
            ]
          },
          "metadata": {
            "tags": []
          },
          "execution_count": 11
        }
      ]
    },
    {
      "metadata": {
        "id": "uI9BIXBeJBox",
        "colab_type": "code",
        "colab": {
          "base_uri": "https://localhost:8080/",
          "height": 271
        },
        "outputId": "9363a766-81fb-4ce0-f865-ec996ca89a16"
      },
      "cell_type": "code",
      "source": [
        "import pandas as pd\n",
        "from sklearn.model_selection import train_test_split\n",
        "from sklearn.ensemble import RandomForestClassifier \n",
        "from sklearn.metrics import accuracy_score\n",
        "from sklearn.metrics import classification_report\n",
        "\n",
        "# 데이터 읽어 들이기 --- (*1)\n",
        "wine = pd.read_csv(\"https://raw.githubusercontent.com/wikibook/python-ml-app-dev/master/ch2/wine/winequality-white.csv\", sep=\";\", encoding=\"utf-8\")\n",
        "# 학습 전용과 테스트 전용으로 분리하기\n",
        "y = wine[\"quality\"]\n",
        "x = wine.drop(\"quality\", axis=1)\n",
        "\n",
        "# y 레이블 변경하기 --- (*2)\n",
        "newlist = []\n",
        "for v in list(y):\n",
        "    if v <= 4:\n",
        "        newlist += [0] #+= [0]\n",
        "    elif v <= 7:\n",
        "        newlist += [1]\n",
        "    else:\n",
        "        newlist += [2]\n",
        "y = newlist\n",
        "\n",
        "# 3 -> 0\n",
        "\n",
        "\n",
        "# 학습 전용과 테스트 전용으로 분리하기 --- (*3)\n",
        "x_train, x_test, y_train, y_test = train_test_split(x, y, test_size=0.2)\n",
        "\n",
        "# 학습하기 --- (*4)\n",
        "model = RandomForestClassifier()\n",
        "model.fit(x_train, y_train)\n",
        "\n",
        "# 평가하기 --- (*5)\n",
        "y_pred = model.predict(x_test)\n",
        "print(classification_report(y_test, y_pred))\n",
        "print(\"정답률=\", accuracy_score(y_test, y_pred))"
      ],
      "execution_count": 13,
      "outputs": [
        {
          "output_type": "stream",
          "text": [
            "              precision    recall  f1-score   support\n",
            "\n",
            "           0       0.58      0.22      0.32        32\n",
            "           1       0.94      0.99      0.96       898\n",
            "           2       0.94      0.32      0.48        50\n",
            "\n",
            "   micro avg       0.93      0.93      0.93       980\n",
            "   macro avg       0.82      0.51      0.59       980\n",
            "weighted avg       0.93      0.93      0.92       980\n",
            "\n",
            "정답률= 0.9336734693877551\n"
          ],
          "name": "stdout"
        },
        {
          "output_type": "stream",
          "text": [
            "/usr/local/lib/python3.6/dist-packages/sklearn/ensemble/forest.py:246: FutureWarning: The default value of n_estimators will change from 10 in version 0.20 to 100 in 0.22.\n",
            "  \"10 in version 0.20 to 100 in 0.22.\", FutureWarning)\n"
          ],
          "name": "stderr"
        }
      ]
    },
    {
      "metadata": {
        "id": "aR_62dAhNuDd",
        "colab_type": "code",
        "colab": {
          "base_uri": "https://localhost:8080/",
          "height": 517
        },
        "outputId": "a2e19890-406a-4962-96b2-c150107b1938"
      },
      "cell_type": "code",
      "source": [
        "# predict\n",
        "\n",
        "from sklearn.linear_model import LinearRegression\n",
        "import pandas as pd\n",
        "import numpy as np\n",
        "import matplotlib.pyplot as plt\n",
        "\n",
        "# 기온 데이터 읽어 들이기\n",
        "df = pd.read_csv('https://raw.githubusercontent.com/wikibook/python-ml-app-dev/master/ch2/weather/tem10y.csv', encoding=\"utf-8\")\n",
        "\n",
        "# 데이터를 학습 전용과 테스트 전용으로 분리하기 ---(*1)\n",
        "train_year = (df[\"연\"] <= 2015)\n",
        "test_year = (df[\"연\"] >= 2016)\n",
        "interval = 6\n",
        "\n",
        "# 과거 6일의 데이터를 기반으로 학습할 데이터 만들기 ---(*2)\n",
        "def make_data(data):\n",
        "    x = [] # 학습 데이터\n",
        "    y = [] # 결과\n",
        "    temps = list(data[\"기온\"])\n",
        "    for i in range(len(temps)):\n",
        "        if i < interval: continue\n",
        "        y.append(temps[i])\n",
        "        xa = []\n",
        "        for p in range(interval):\n",
        "            d = i + p - interval\n",
        "            xa.append(temps[d])\n",
        "        x.append(xa)\n",
        "    return (x, y)\n",
        "\n",
        "train_x, train_y = make_data(df[train_year])\n",
        "test_x, test_y = make_data(df[test_year])\n",
        "\n",
        "# 직선 회귀 분석하기 ---(*3)\n",
        "lr = LinearRegression(normalize=True)\n",
        "lr.fit(train_x, train_y) # 학습하기\n",
        "pre_y = lr.predict(test_x) # 예측하기\n",
        "\n",
        "# 결과를 그래프로 그리기 ---(*4)\n",
        "plt.figure(figsize=(10, 6), dpi=100)\n",
        "plt.plot(test_y, c='r')\n",
        "plt.plot(pre_y, c='b')\n",
        "plt.savefig('tenki-kion-lr.png')\n",
        "plt.show()"
      ],
      "execution_count": 15,
      "outputs": [
        {
          "output_type": "display_data",
          "data": {
            "image/png": "[encoded data removed]",
            "text/plain": [
              "<Figure size 1000x600 with 1 Axes>"
            ]
          },
          "metadata": {
            "tags": []
          }
        }
      ]
    },
    {
      "metadata": {
        "id": "ynDfUmhqO1Vi",
        "colab_type": "text"
      },
      "cell_type": "markdown",
      "source": [
        "# 응용 힌트\n",
        "- Pandas를 사용하면 CSV 파일에 다양한 가공이 가능하다\n",
        "- 매출등의 수요 예측에는 회귀분석을 사용함\n",
        "- 위의 코드는 직선 회귀 분석의 예로 다음날 기온을 예측하는 예제를 살펴봤다"
      ]
    },
    {
      "metadata": {
        "id": "Xopptvj-RNVK",
        "colab_type": "code",
        "colab": {
          "base_uri": "https://localhost:8080/",
          "height": 575
        },
        "outputId": "ca5490a5-6672-4ac4-e34b-7481b00e310e"
      },
      "cell_type": "code",
      "source": [
        "# 2-5 최적의 알고리즘과 매개변수 찾기\n",
        "# selectAlgorithm.py\n",
        "\n",
        "import pandas as pd\n",
        "from sklearn.model_selection import train_test_split\n",
        "from sklearn.metrics import accuracy_score\n",
        "import warnings\n",
        "from sklearn.utils.testing import all_estimators\n",
        "\n",
        "import warnings\n",
        "warnings.filterwarnings('ignore')\n",
        "\n",
        "# 붓꽃 데이터 읽어 들이기\n",
        "iris_data = pd.read_csv(\"https://raw.githubusercontent.com/wikibook/python-ml-app-dev/master/ch2/iris/iris.csv\", encoding=\"utf-8\")\n",
        "\n",
        "# 붓꽃 데이터를 레이블과 입력 데이터로 분리하기 \n",
        "y = iris_data.loc[:,\"Name\"]\n",
        "x = iris_data.loc[:,[\"SepalLength\",\"SepalWidth\",\"PetalLength\",\"PetalWidth\"]]\n",
        "\n",
        "# 학습 전용과 테스트 전용 분리하기 \n",
        "warnings.filterwarnings('ignore')\n",
        "x_train, x_test, y_train, y_test = train_test_split(x, y, test_size = 0.2, train_size = 0.8, shuffle = True)\n",
        "\n",
        "# classifier 알고리즘 모두 추출하기--- (*1)\n",
        "warnings.filterwarnings('ignore')\n",
        "allAlgorithms = all_estimators(type_filter=\"classifier\")\n",
        "\n",
        "for(name, algorithm) in allAlgorithms:\n",
        "    # 각 알고리즘 객체 생성하기 --- (*2)\n",
        "    clf = algorithm()\n",
        "\n",
        "    # 학습하고 평가하기 --- (*3)\n",
        "    clf.fit(x_train, y_train)\n",
        "    y_pred = clf.predict(x_test)\n",
        "    print(name,\"의 정답률 = \" , accuracy_score(y_test, y_pred))"
      ],
      "execution_count": 17,
      "outputs": [
        {
          "output_type": "stream",
          "text": [
            "AdaBoostClassifier 의 정답률 =  0.9666666666666667\n",
            "BaggingClassifier 의 정답률 =  0.9666666666666667\n",
            "BernoulliNB 의 정답률 =  0.23333333333333334\n",
            "CalibratedClassifierCV 의 정답률 =  0.9666666666666667\n",
            "ComplementNB 의 정답률 =  0.7666666666666667\n",
            "DecisionTreeClassifier 의 정답률 =  0.9\n",
            "ExtraTreeClassifier 의 정답률 =  0.8666666666666667\n",
            "ExtraTreesClassifier 의 정답률 =  0.9666666666666667\n",
            "GaussianNB 의 정답률 =  0.9666666666666667\n",
            "GaussianProcessClassifier 의 정답률 =  0.9666666666666667\n",
            "GradientBoostingClassifier 의 정답률 =  0.9666666666666667\n",
            "KNeighborsClassifier 의 정답률 =  1.0\n",
            "LabelPropagation 의 정답률 =  0.9666666666666667\n",
            "LabelSpreading 의 정답률 =  0.9666666666666667\n",
            "LinearDiscriminantAnalysis 의 정답률 =  0.9666666666666667\n",
            "LinearSVC 의 정답률 =  0.9666666666666667\n",
            "LogisticRegression 의 정답률 =  0.9666666666666667\n",
            "LogisticRegressionCV 의 정답률 =  0.9333333333333333\n",
            "MLPClassifier 의 정답률 =  0.9666666666666667\n",
            "MultinomialNB 의 정답률 =  0.8666666666666667\n",
            "NearestCentroid 의 정답률 =  0.8666666666666667\n",
            "NuSVC 의 정답률 =  0.9666666666666667\n",
            "PassiveAggressiveClassifier 의 정답률 =  0.6666666666666666\n",
            "Perceptron 의 정답률 =  0.6666666666666666\n",
            "QuadraticDiscriminantAnalysis 의 정답률 =  0.9333333333333333\n",
            "RadiusNeighborsClassifier 의 정답률 =  0.9\n",
            "RandomForestClassifier 의 정답률 =  1.0\n",
            "RidgeClassifier 의 정답률 =  0.8666666666666667\n",
            "RidgeClassifierCV 의 정답률 =  0.8666666666666667\n",
            "SGDClassifier 의 정답률 =  0.7666666666666667\n",
            "SVC 의 정답률 =  0.9666666666666667\n"
          ],
          "name": "stdout"
        }
      ]
    },
    {
      "metadata": {
        "id": "zNohyEFsR6fT",
        "colab_type": "text"
      },
      "cell_type": "markdown",
      "source": [
        "# 크로스 벨리데이션\n",
        "- 데이터를 A,B,C라는 3개의 그룹으로 분할한다.\n",
        "- A와 B를 학습 전용 데이터, C를 평가전용 데이터로 사용해서 정답률을 구한다\n",
        "- B와 C를 학습 전용 데이터, A를 평가전용데이터로 사용해서 정답률을 구함\n",
        "- C+A , B 이용해서 정답률 구함"
      ]
    },
    {
      "metadata": {
        "id": "lIVv7FVaSQ2n",
        "colab_type": "code",
        "colab": {
          "base_uri": "https://localhost:8080/",
          "height": 1133
        },
        "outputId": "4aab880c-f3b4-497e-d3f9-c0c261a3158e"
      },
      "cell_type": "code",
      "source": [
        "import pandas as pd\n",
        "from sklearn.utils.testing import all_estimators\n",
        "from sklearn.model_selection import KFold\n",
        "import warnings\n",
        "from sklearn.model_selection import cross_val_score\n",
        "\n",
        "# 붓꽃 데이터 읽어 들이기\n",
        "iris_data = pd.read_csv(\"https://raw.githubusercontent.com/wikibook/python-ml-app-dev/master/ch2/iris/iris.csv\", encoding=\"utf-8\")\n",
        "\n",
        "# 붓꽃 데이터를 레이블과 입력 데이터로 분리하기 \n",
        "y = iris_data.loc[:,\"Name\"]\n",
        "x = iris_data.loc[:,[\"SepalLength\",\"SepalWidth\",\"PetalLength\",\"PetalWidth\"]]\n",
        "\n",
        "# classifier 알고리즘 모두 추출하기\n",
        "warnings.filterwarnings('ignore')\n",
        "allAlgorithms = all_estimators(type_filter=\"classifier\")\n",
        "\n",
        "# K-분할 크로스 밸리데이션 전용 객체 --- (*1)\n",
        "kfold_cv = KFold(n_splits=5, shuffle=True)\n",
        "\n",
        "for(name, algorithm) in allAlgorithms:\n",
        "    # 각 알고리즘 객체 생성하기\n",
        "    clf = algorithm()\n",
        "\n",
        "    # score 메서드를 가진 클래스를 대상으로 하기--- (*2)\n",
        "    if hasattr(clf,\"score\"):\n",
        "        \n",
        "        # 크로스 밸리데이션--- (*3)\n",
        "        scores = cross_val_score(clf, x, y, cv=kfold_cv)\n",
        "        print(name,\"의 정답률=\")\n",
        "        print(scores)"
      ],
      "execution_count": 18,
      "outputs": [
        {
          "output_type": "stream",
          "text": [
            "AdaBoostClassifier 의 정답률=\n",
            "[1.         0.93333333 0.9        0.86666667 0.9       ]\n",
            "BaggingClassifier 의 정답률=\n",
            "[0.96666667 0.96666667 0.93333333 0.96666667 0.9       ]\n",
            "BernoulliNB 의 정답률=\n",
            "[0.3        0.26666667 0.26666667 0.26666667 0.23333333]\n",
            "CalibratedClassifierCV 의 정답률=\n",
            "[0.96666667 0.86666667 0.93333333 0.96666667 0.86666667]\n",
            "ComplementNB 의 정답률=\n",
            "[0.8        0.63333333 0.7        0.63333333 0.56666667]\n",
            "DecisionTreeClassifier 의 정답률=\n",
            "[0.93333333 1.         0.9        0.96666667 0.93333333]\n",
            "ExtraTreeClassifier 의 정답률=\n",
            "[0.93333333 0.93333333 0.93333333 0.93333333 1.        ]\n",
            "ExtraTreesClassifier 의 정답률=\n",
            "[1.         0.9        1.         0.96666667 0.93333333]\n",
            "GaussianNB 의 정답률=\n",
            "[0.96666667 0.9        0.86666667 1.         1.        ]\n",
            "GaussianProcessClassifier 의 정답률=\n",
            "[0.96666667 0.93333333 0.96666667 1.         0.96666667]\n",
            "GradientBoostingClassifier 의 정답률=\n",
            "[0.96666667 0.96666667 0.93333333 0.9        0.96666667]\n",
            "KNeighborsClassifier 의 정답률=\n",
            "[0.9        1.         0.96666667 1.         0.96666667]\n",
            "LabelPropagation 의 정답률=\n",
            "[0.93333333 1.         0.93333333 0.93333333 0.96666667]\n",
            "LabelSpreading 의 정답률=\n",
            "[1.         0.96666667 0.86666667 0.96666667 0.96666667]\n",
            "LinearDiscriminantAnalysis 의 정답률=\n",
            "[1.         0.93333333 0.96666667 1.         1.        ]\n",
            "LinearSVC 의 정답률=\n",
            "[0.93333333 0.96666667 0.96666667 0.96666667 0.86666667]\n",
            "LogisticRegression 의 정답률=\n",
            "[0.93333333 0.93333333 1.         0.96666667 1.        ]\n",
            "LogisticRegressionCV 의 정답률=\n",
            "[0.9        0.9        1.         0.93333333 0.96666667]\n",
            "MLPClassifier 의 정답률=\n",
            "[1.         0.96666667 0.96666667 0.93333333 0.96666667]\n",
            "MultinomialNB 의 정답률=\n",
            "[0.83333333 0.93333333 1.         0.83333333 0.86666667]\n",
            "NearestCentroid 의 정답률=\n",
            "[0.86666667 0.8        0.9        0.93333333 0.93333333]\n",
            "NuSVC 의 정답률=\n",
            "[1.         1.         0.93333333 1.         0.86666667]\n",
            "PassiveAggressiveClassifier 의 정답률=\n",
            "[0.56666667 0.6        0.9        0.93333333 0.7       ]\n",
            "Perceptron 의 정답률=\n",
            "[0.8        0.9        0.76666667 0.66666667 0.5       ]\n",
            "QuadraticDiscriminantAnalysis 의 정답률=\n",
            "[0.96666667 0.93333333 0.96666667 1.         0.96666667]\n",
            "RadiusNeighborsClassifier 의 정답률=\n",
            "[1.         0.96666667 1.         1.         0.83333333]\n",
            "RandomForestClassifier 의 정답률=\n",
            "[0.96666667 0.93333333 0.93333333 0.96666667 0.86666667]\n",
            "RidgeClassifier 의 정답률=\n",
            "[0.83333333 0.66666667 0.96666667 0.83333333 0.8       ]\n",
            "RidgeClassifierCV 의 정답률=\n",
            "[0.83333333 0.93333333 0.83333333 0.86666667 0.73333333]\n",
            "SGDClassifier 의 정답률=\n",
            "[0.63333333 0.76666667 0.66666667 0.43333333 0.76666667]\n",
            "SVC 의 정답률=\n",
            "[0.93333333 0.96666667 0.9        1.         0.96666667]\n"
          ],
          "name": "stdout"
        }
      ]
    },
    {
      "metadata": {
        "id": "MeVr7oCqS2O5",
        "colab_type": "code",
        "colab": {
          "base_uri": "https://localhost:8080/",
          "height": 107
        },
        "outputId": "48fbbc69-7663-4952-e915-a2789be010ea"
      },
      "cell_type": "code",
      "source": [
        "# 그리드 서치\n",
        "# 지정한 매개변수 패턴을 이용해서 정답률을 구하고 가장 정답률이 높은 패턴을 선택하는 방법\n",
        "\n",
        "import pandas as pd\n",
        "from sklearn.model_selection import train_test_split\n",
        "from sklearn.svm import SVC\n",
        "from sklearn.metrics import accuracy_score\n",
        "from sklearn.model_selection import KFold\n",
        "from sklearn.model_selection import GridSearchCV\n",
        "\n",
        "# 붓꽃 데이터 읽어 들이기\n",
        "iris_data = pd.read_csv(\"https://raw.githubusercontent.com/wikibook/python-ml-app-dev/master/ch2/iris/iris.csv\", encoding=\"utf-8\")\n",
        "\n",
        "# 붓꽃 데이터를 레이블과 입력 데이터로 분리하기\n",
        "y = iris_data.loc[:,\"Name\"]\n",
        "x = iris_data.loc[:,[\"SepalLength\",\"SepalWidth\",\"PetalLength\",\"PetalWidth\"]]\n",
        "\n",
        "# 학습 전용과 테스트 전용 분리하기 \n",
        "x_train, x_test, y_train, y_test = train_test_split(x, y, test_size = 0.2, train_size = 0.8, shuffle = True)\n",
        "\n",
        "# 그리드 서치에서 사용할 매개 변수 --- (*1)\n",
        "parameters = [\n",
        "    {\"C\": [1, 10, 100, 1000], \"kernel\":[\"linear\"]},\n",
        "    {\"C\": [1, 10, 100, 1000], \"kernel\":[\"rbf\"], \"gamma\":[0.001, 0.0001]},\n",
        "    {\"C\": [1, 10, 100, 1000], \"kernel\":[\"sigmoid\"], \"gamma\": [0.001, 0.0001]}\n",
        "]\n",
        "\n",
        "# 그리드 서치 --- (*2)\n",
        "kfold_cv = KFold(n_splits=5, shuffle=True)\n",
        "clf = GridSearchCV( SVC(), parameters, cv=kfold_cv)\n",
        "clf.fit(x_train, y_train)\n",
        "print(\"최적의 매개 변수 = \", clf.best_estimator_)\n",
        "\n",
        "# 최적의 매개 변수로 평가하기 --- (*3)\n",
        "y_pred = clf.predict(x_test)\n",
        "print(\"최종 정답률 = \" , accuracy_score(y_test, y_pred))"
      ],
      "execution_count": 23,
      "outputs": [
        {
          "output_type": "stream",
          "text": [
            "최적의 매개 변수 =  SVC(C=1, cache_size=200, class_weight=None, coef0=0.0,\n",
            "  decision_function_shape='ovr', degree=3, gamma='auto_deprecated',\n",
            "  kernel='linear', max_iter=-1, probability=False, random_state=None,\n",
            "  shrinking=True, tol=0.001, verbose=False)\n",
            "최종 정답률 =  0.9\n"
          ],
          "name": "stdout"
        }
      ]
    }
  ]
}